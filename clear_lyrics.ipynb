{
 "cells": [
  {
   "cell_type": "code",
   "execution_count": 7,
   "metadata": {
    "collapsed": true,
    "pycharm": {
     "is_executing": false
    }
   },
   "outputs": [],
   "source": [
    "import  csv\n",
    "\n",
    "X1 = []\n",
    "with open('MoodyLyricsFull4Q.csv') as file:\n",
    "    reader = csv.reader(file, delimiter = ',')\n",
    "    count = 0\n",
    "    for row in reader:\n",
    "        if count > 0:\n",
    "            X1.append(row[4])\n",
    "        count = count + 1\n",
    "\n",
    "wfile = open('MoodyLyricsClear4Q.csv', 'w')\n",
    "with open('MoodyLyricsTrans4Q.csv') as file:\n",
    "    reader = csv.reader(file, delimiter = ',')\n",
    "    writer = csv.writer(wfile, delimiter = ',')\n",
    "    \n",
    "    count = 0\n",
    "    for row in reader:\n",
    "        if count > 0:\n",
    "            if row[4] == X1[count - 1] and row[4] != '' and row[4] != ' ':\n",
    "                writer.writerow(row)\n",
    "        count = count + 1\n",
    "        "
   ]
  },
  {
   "cell_type": "code",
   "execution_count": 28,
   "outputs": [
    {
     "name": "stdout",
     "text": [
      "[\"There's things that you guess\", 'And things that you know', \"There's boys that you can trust\", \"And girls that you don't\", '', \"There's little things you hide\", 'And little things that you show', \"Sometimes you think you're gonna get it\", \"But you don't and that's just the way it goes\", '', \"I swear I won't tease you\", \"Won't tell you no lies\", \"I don't need no bible\", 'Just look in my eyes', '', \"I've waited so long baby\", \"Now that we're friends\", \"Every man's got his patience\", \"And here's where mine ends\", '', 'I want your sex', 'I want your love', 'I want your sex', 'I want your... sex', '', \"It's playing on my mind\", \"It's dancing on my soul\", \"It's taken so much time\", \"So why don't you just let me go\", '', \"I'd really like to try\", \"Oh, I'd really love to know\", \"When you tell me you're gonna regret it\", 'Then I tell you that I love you but you still say NO', '', \"I swear I won't tease you\", \"Won't tell you no lies\", \"I don't need no bible\", 'Just look in my eyes', '', \"I've waited so long baby\", 'Out in the cold', \"I can't take much more girl\", \"I'm losing control\", '', 'I want your sex', 'I want your love', 'I want your sex', 'I want your... sex', '', \"It's natural\", \"It's chemical (Let's do it)\", \"It's logical\", 'Habitual (Can we do it?)', '', \"It's sensual\", 'But most of all...', 'Sex is something that we should do', 'Sex is something for me and you', '', 'Sex is natural, sex is good', 'Not everybody does it', 'But everybody should', 'Sex is natural, sex is fun', \"Sex is best when it's... one on one\", 'One on one', '', \"I'm not your father\", \"I'm not your brother\", 'Talk to your sister', 'I am a lover', '', 'C-c-c-c-come on', '', \"What's your definition of dirty baby\", 'What do you consider pornography', \"Don't you know I love it till it hurts me baby\", \"Don't you think it's time you had sex with me\", '', \"What's your definition of dirty baby\", 'What do you call pornography', \"Don't you know I love it till it hurts me baby\", \"Don't you think it's time you had sex with me\", '', 'Sex with me', 'Sex with me', 'Have sex with me', '', 'C-c-c-c-come on']\n"
     ],
     "output_type": "stream"
    }
   ],
   "source": [
    "print(X1[0].split('\\n'))\n",
    "new = X1[0].split('\\n')\n",
    "new2 = []\n",
    "new3 = []\n",
    "N = len(new)\n",
    "count = 0\n",
    "for i  in range(N):\n",
    "    bar = new.pop(0)\n",
    "    if bar != '' and bar != ' ':\n",
    "        bar4 = bar4 + bar + '\\n'\n",
    "        count = count + 1\n",
    "    if count == 4 or i == N - 1:\n",
    "        new2.append(bar4)\n",
    "        bar4 = ''\n",
    "        count = 0"
   ],
   "metadata": {
    "collapsed": false,
    "pycharm": {
     "name": "#%%\n",
     "is_executing": false
    }
   }
  },
  {
   "cell_type": "code",
   "execution_count": 42,
   "outputs": [],
   "source": [
    "wfile = open('MoodyLyricsExtended4Q.csv', 'w')\n",
    "with open('MoodyLyricsClear4Q.csv') as file:\n",
    "    reader = csv.reader(file, delimiter = ',')\n",
    "    writer = csv.writer(wfile, delimiter = ',')\n",
    "    \n",
    "    count = 0\n",
    "    for row in reader:\n",
    "        if count > 0:\n",
    "            new = row[4].split('\\n')  \n",
    "            N = len(new)\n",
    "            count2 = 0\n",
    "            for i  in range(N):\n",
    "                bar = new.pop(0)\n",
    "                if bar != '' and bar != ' ':\n",
    "                    bar4 = bar4 + bar + '\\n'\n",
    "                    count2 = count2 + 1\n",
    "                if count2 == 4 or i == N - 1:\n",
    "                    new_row = [row[0], row[1], row[2], row[3], bar4]\n",
    "                    writer.writerow(new_row)\n",
    "                    #new2.append(bar4)\n",
    "                    bar4 = ''\n",
    "                    count2 = 0\n",
    "        count = count + 1 "
   ],
   "metadata": {
    "collapsed": false,
    "pycharm": {
     "name": "#%%\n",
     "is_executing": false
    }
   }
  },
  {
   "cell_type": "code",
   "execution_count": null,
   "outputs": [],
   "source": [
    "\n"
   ],
   "metadata": {
    "collapsed": false,
    "pycharm": {
     "name": "#%%\n"
    }
   }
  }
 ],
 "metadata": {
  "kernelspec": {
   "display_name": "Python 3",
   "language": "python",
   "name": "python3"
  },
  "language_info": {
   "codemirror_mode": {
    "name": "ipython",
    "version": 2
   },
   "file_extension": ".py",
   "mimetype": "text/x-python",
   "name": "python",
   "nbconvert_exporter": "python",
   "pygments_lexer": "ipython2",
   "version": "2.7.6"
  },
  "pycharm": {
   "stem_cell": {
    "cell_type": "raw",
    "source": [],
    "metadata": {
     "collapsed": false
    }
   }
  }
 },
 "nbformat": 4,
 "nbformat_minor": 0
}